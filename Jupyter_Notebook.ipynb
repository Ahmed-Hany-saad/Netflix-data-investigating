{
  "metadata": {
    "kernelspec": {
      "name": "python",
      "display_name": "Python (Pyodide)",
      "language": "python"
    },
    "language_info": {
      "codemirror_mode": {
        "name": "python",
        "version": 3
      },
      "file_extension": ".py",
      "mimetype": "text/x-python",
      "name": "python",
      "nbconvert_exporter": "python",
      "pygments_lexer": "ipython3",
      "version": "3.8"
    }
  },
  "nbformat_minor": 4,
  "nbformat": 4,
  "cells": [
    {
      "cell_type": "code",
      "source": "import pandas as pd\nimport matplotlib.pyplot as plt",
      "metadata": {
        "trusted": true
      },
      "outputs": [],
      "execution_count": 1
    },
    {
      "cell_type": "code",
      "source": "# Step 1: Load the CSV file\nnetflix_df = pd.read_csv(\"netflix_data.csv\")",
      "metadata": {
        "trusted": true
      },
      "outputs": [],
      "execution_count": 2
    },
    {
      "cell_type": "code",
      "source": "# Step 2: Filter the data to remove TV shows\nnetflix_subset = netflix_df[netflix_df['type'] == 'Movie']",
      "metadata": {
        "trusted": true
      },
      "outputs": [],
      "execution_count": 5
    },
    {
      "cell_type": "code",
      "source": "# Step 3: Subset the Netflix movie data\nnetflix_movies = netflix_subset[[\"title\", \"country\", \"genre\", \"release_year\", \"duration\"]]",
      "metadata": {
        "trusted": true
      },
      "outputs": [],
      "execution_count": 6
    },
    {
      "cell_type": "code",
      "source": "# Step 4: Filter for movies shorter than 60 minutes\nshort_movies = netflix_movies[netflix_movies[\"duration\"] < 60]",
      "metadata": {
        "trusted": true
      },
      "outputs": [],
      "execution_count": 7
    },
    {
      "cell_type": "code",
      "source": "colors=[]\n# Step 5: Assign colors to genre groups\nfor index, row in netflix_movies.iterrows():\n    if \"Children\" in row[\"genre\"]:\n        colors.append(\"red\")\n    elif \"Documentaries\" in row[\"genre\"]:\n        colors.append(\"blue\")\n    elif \"Stand-Up\" in row[\"genre\"]:\n        colors.append(\"green\")\n    else:\n        colors.append(\"orange\")",
      "metadata": {
        "trusted": true
      },
      "outputs": [],
      "execution_count": 8
    },
    {
      "cell_type": "code",
      "source": "# Step 6: Create scatter plot\nplt.scatter(netflix_movies[\"release_year\"], netflix_movies[\"duration\"], c=colors)\nplt.xlabel(\"Release year\")\nplt.ylabel(\"Duration (min)\")\nplt.title(\"Movie Duration by Year of Release\")\nplt.show()\n# Step 7\nanswer = \"no\"  ",
      "metadata": {
        "trusted": true
      },
      "outputs": [],
      "execution_count": null
    }
  ]
}